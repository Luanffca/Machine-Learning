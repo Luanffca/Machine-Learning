{
  "nbformat": 4,
  "nbformat_minor": 0,
  "metadata": {
    "colab": {
      "provenance": []
    },
    "kernelspec": {
      "name": "python3",
      "display_name": "Python 3"
    },
    "language_info": {
      "name": "python"
    }
  },
  "cells": [
    {
      "cell_type": "markdown",
      "source": [
        "# **Questão**\n",
        "Faça um programa que calcule o Ganho de informação (Information Gain - IG) dado uma partição p em um atributo contínuo. Plote o gráfico do ganho de informação por valor da partição escolhida para o atributo contínuo e indique, no gráfico, qual a melhor partição para aquele atributo."
      ],
      "metadata": {
        "id": "bRmpLf7ALhfB"
      }
    },
    {
      "cell_type": "markdown",
      "source": [
        "Importando as Bibliotecas "
      ],
      "metadata": {
        "id": "ge-k2SheLwAn"
      }
    },
    {
      "cell_type": "code",
      "execution_count": null,
      "metadata": {
        "id": "-TPTgYrsLJvV"
      },
      "outputs": [],
      "source": [
        "import pandas as pd\n",
        "import numpy as np\n",
        "import matplotlib.pyplot as plt"
      ]
    },
    {
      "cell_type": "markdown",
      "source": [
        "Definindo a base de dados"
      ],
      "metadata": {
        "id": "kdfL8GQPMEbw"
      }
    },
    {
      "cell_type": "code",
      "source": [
        "# Conctando ou drive\n",
        "from google.colab import drive\n",
        "drive.mount('/content/drive')"
      ],
      "metadata": {
        "colab": {
          "base_uri": "https://localhost:8080/"
        },
        "id": "IKq79-dSL8Qz",
        "outputId": "9de948c7-9416-4cae-8e9f-a872aba03422"
      },
      "execution_count": null,
      "outputs": [
        {
          "output_type": "stream",
          "name": "stdout",
          "text": [
            "Drive already mounted at /content/drive; to attempt to forcibly remount, call drive.mount(\"/content/drive\", force_remount=True).\n"
          ]
        }
      ]
    },
    {
      "cell_type": "code",
      "source": [
        "dataset = pd.read_csv('/content/drive/My Drive/Colab Notebooks/tem_jogo.csv', encoding='ISO-8859-1')\n",
        "dataset.head(14)"
      ],
      "metadata": {
        "colab": {
          "base_uri": "https://localhost:8080/",
          "height": 488
        },
        "id": "r3-m-rzWNDHO",
        "outputId": "746d25b2-abc5-4f59-d5f4-855bdd2b01e5"
      },
      "execution_count": null,
      "outputs": [
        {
          "output_type": "execute_result",
          "data": {
            "text/plain": [
              "         Tempo  Temperatura  Umidade Vento Joga\n",
              "0      Chuvoso           71       91   Sim  Não\n",
              "1   Ensolarado           69       70   Não  Sim\n",
              "2   Ensolarado           80       90   Sim  Não\n",
              "3      Nublado           83       86   Não  Sim\n",
              "4      Chuvoso           70       96   Não  Sim\n",
              "5      Chuvoso           65       70   Sim  Não\n",
              "6      Nublado           64       65   Sim  Sim\n",
              "7      Nublado           72       90   Sim  Sim\n",
              "8   Ensolarado           75       70   Sim  Sim\n",
              "9      Chuvoso           68       80   Não  Sim\n",
              "10     Nublado           81       75   Não  Sim\n",
              "11  Ensolarado           85       85   Não  Não\n",
              "12  Ensolarado           72       95   Não  Não\n",
              "13     Chuvoso           75       80   Não  Sim"
            ],
            "text/html": [
              "\n",
              "  <div id=\"df-35c967f2-b868-4982-b233-0b30af5dc79a\">\n",
              "    <div class=\"colab-df-container\">\n",
              "      <div>\n",
              "<style scoped>\n",
              "    .dataframe tbody tr th:only-of-type {\n",
              "        vertical-align: middle;\n",
              "    }\n",
              "\n",
              "    .dataframe tbody tr th {\n",
              "        vertical-align: top;\n",
              "    }\n",
              "\n",
              "    .dataframe thead th {\n",
              "        text-align: right;\n",
              "    }\n",
              "</style>\n",
              "<table border=\"1\" class=\"dataframe\">\n",
              "  <thead>\n",
              "    <tr style=\"text-align: right;\">\n",
              "      <th></th>\n",
              "      <th>Tempo</th>\n",
              "      <th>Temperatura</th>\n",
              "      <th>Umidade</th>\n",
              "      <th>Vento</th>\n",
              "      <th>Joga</th>\n",
              "    </tr>\n",
              "  </thead>\n",
              "  <tbody>\n",
              "    <tr>\n",
              "      <th>0</th>\n",
              "      <td>Chuvoso</td>\n",
              "      <td>71</td>\n",
              "      <td>91</td>\n",
              "      <td>Sim</td>\n",
              "      <td>Não</td>\n",
              "    </tr>\n",
              "    <tr>\n",
              "      <th>1</th>\n",
              "      <td>Ensolarado</td>\n",
              "      <td>69</td>\n",
              "      <td>70</td>\n",
              "      <td>Não</td>\n",
              "      <td>Sim</td>\n",
              "    </tr>\n",
              "    <tr>\n",
              "      <th>2</th>\n",
              "      <td>Ensolarado</td>\n",
              "      <td>80</td>\n",
              "      <td>90</td>\n",
              "      <td>Sim</td>\n",
              "      <td>Não</td>\n",
              "    </tr>\n",
              "    <tr>\n",
              "      <th>3</th>\n",
              "      <td>Nublado</td>\n",
              "      <td>83</td>\n",
              "      <td>86</td>\n",
              "      <td>Não</td>\n",
              "      <td>Sim</td>\n",
              "    </tr>\n",
              "    <tr>\n",
              "      <th>4</th>\n",
              "      <td>Chuvoso</td>\n",
              "      <td>70</td>\n",
              "      <td>96</td>\n",
              "      <td>Não</td>\n",
              "      <td>Sim</td>\n",
              "    </tr>\n",
              "    <tr>\n",
              "      <th>5</th>\n",
              "      <td>Chuvoso</td>\n",
              "      <td>65</td>\n",
              "      <td>70</td>\n",
              "      <td>Sim</td>\n",
              "      <td>Não</td>\n",
              "    </tr>\n",
              "    <tr>\n",
              "      <th>6</th>\n",
              "      <td>Nublado</td>\n",
              "      <td>64</td>\n",
              "      <td>65</td>\n",
              "      <td>Sim</td>\n",
              "      <td>Sim</td>\n",
              "    </tr>\n",
              "    <tr>\n",
              "      <th>7</th>\n",
              "      <td>Nublado</td>\n",
              "      <td>72</td>\n",
              "      <td>90</td>\n",
              "      <td>Sim</td>\n",
              "      <td>Sim</td>\n",
              "    </tr>\n",
              "    <tr>\n",
              "      <th>8</th>\n",
              "      <td>Ensolarado</td>\n",
              "      <td>75</td>\n",
              "      <td>70</td>\n",
              "      <td>Sim</td>\n",
              "      <td>Sim</td>\n",
              "    </tr>\n",
              "    <tr>\n",
              "      <th>9</th>\n",
              "      <td>Chuvoso</td>\n",
              "      <td>68</td>\n",
              "      <td>80</td>\n",
              "      <td>Não</td>\n",
              "      <td>Sim</td>\n",
              "    </tr>\n",
              "    <tr>\n",
              "      <th>10</th>\n",
              "      <td>Nublado</td>\n",
              "      <td>81</td>\n",
              "      <td>75</td>\n",
              "      <td>Não</td>\n",
              "      <td>Sim</td>\n",
              "    </tr>\n",
              "    <tr>\n",
              "      <th>11</th>\n",
              "      <td>Ensolarado</td>\n",
              "      <td>85</td>\n",
              "      <td>85</td>\n",
              "      <td>Não</td>\n",
              "      <td>Não</td>\n",
              "    </tr>\n",
              "    <tr>\n",
              "      <th>12</th>\n",
              "      <td>Ensolarado</td>\n",
              "      <td>72</td>\n",
              "      <td>95</td>\n",
              "      <td>Não</td>\n",
              "      <td>Não</td>\n",
              "    </tr>\n",
              "    <tr>\n",
              "      <th>13</th>\n",
              "      <td>Chuvoso</td>\n",
              "      <td>75</td>\n",
              "      <td>80</td>\n",
              "      <td>Não</td>\n",
              "      <td>Sim</td>\n",
              "    </tr>\n",
              "  </tbody>\n",
              "</table>\n",
              "</div>\n",
              "      <button class=\"colab-df-convert\" onclick=\"convertToInteractive('df-35c967f2-b868-4982-b233-0b30af5dc79a')\"\n",
              "              title=\"Convert this dataframe to an interactive table.\"\n",
              "              style=\"display:none;\">\n",
              "        \n",
              "  <svg xmlns=\"http://www.w3.org/2000/svg\" height=\"24px\"viewBox=\"0 0 24 24\"\n",
              "       width=\"24px\">\n",
              "    <path d=\"M0 0h24v24H0V0z\" fill=\"none\"/>\n",
              "    <path d=\"M18.56 5.44l.94 2.06.94-2.06 2.06-.94-2.06-.94-.94-2.06-.94 2.06-2.06.94zm-11 1L8.5 8.5l.94-2.06 2.06-.94-2.06-.94L8.5 2.5l-.94 2.06-2.06.94zm10 10l.94 2.06.94-2.06 2.06-.94-2.06-.94-.94-2.06-.94 2.06-2.06.94z\"/><path d=\"M17.41 7.96l-1.37-1.37c-.4-.4-.92-.59-1.43-.59-.52 0-1.04.2-1.43.59L10.3 9.45l-7.72 7.72c-.78.78-.78 2.05 0 2.83L4 21.41c.39.39.9.59 1.41.59.51 0 1.02-.2 1.41-.59l7.78-7.78 2.81-2.81c.8-.78.8-2.07 0-2.86zM5.41 20L4 18.59l7.72-7.72 1.47 1.35L5.41 20z\"/>\n",
              "  </svg>\n",
              "      </button>\n",
              "      \n",
              "  <style>\n",
              "    .colab-df-container {\n",
              "      display:flex;\n",
              "      flex-wrap:wrap;\n",
              "      gap: 12px;\n",
              "    }\n",
              "\n",
              "    .colab-df-convert {\n",
              "      background-color: #E8F0FE;\n",
              "      border: none;\n",
              "      border-radius: 50%;\n",
              "      cursor: pointer;\n",
              "      display: none;\n",
              "      fill: #1967D2;\n",
              "      height: 32px;\n",
              "      padding: 0 0 0 0;\n",
              "      width: 32px;\n",
              "    }\n",
              "\n",
              "    .colab-df-convert:hover {\n",
              "      background-color: #E2EBFA;\n",
              "      box-shadow: 0px 1px 2px rgba(60, 64, 67, 0.3), 0px 1px 3px 1px rgba(60, 64, 67, 0.15);\n",
              "      fill: #174EA6;\n",
              "    }\n",
              "\n",
              "    [theme=dark] .colab-df-convert {\n",
              "      background-color: #3B4455;\n",
              "      fill: #D2E3FC;\n",
              "    }\n",
              "\n",
              "    [theme=dark] .colab-df-convert:hover {\n",
              "      background-color: #434B5C;\n",
              "      box-shadow: 0px 1px 3px 1px rgba(0, 0, 0, 0.15);\n",
              "      filter: drop-shadow(0px 1px 2px rgba(0, 0, 0, 0.3));\n",
              "      fill: #FFFFFF;\n",
              "    }\n",
              "  </style>\n",
              "\n",
              "      <script>\n",
              "        const buttonEl =\n",
              "          document.querySelector('#df-35c967f2-b868-4982-b233-0b30af5dc79a button.colab-df-convert');\n",
              "        buttonEl.style.display =\n",
              "          google.colab.kernel.accessAllowed ? 'block' : 'none';\n",
              "\n",
              "        async function convertToInteractive(key) {\n",
              "          const element = document.querySelector('#df-35c967f2-b868-4982-b233-0b30af5dc79a');\n",
              "          const dataTable =\n",
              "            await google.colab.kernel.invokeFunction('convertToInteractive',\n",
              "                                                     [key], {});\n",
              "          if (!dataTable) return;\n",
              "\n",
              "          const docLinkHtml = 'Like what you see? Visit the ' +\n",
              "            '<a target=\"_blank\" href=https://colab.research.google.com/notebooks/data_table.ipynb>data table notebook</a>'\n",
              "            + ' to learn more about interactive tables.';\n",
              "          element.innerHTML = '';\n",
              "          dataTable['output_type'] = 'display_data';\n",
              "          await google.colab.output.renderOutput(dataTable, element);\n",
              "          const docLink = document.createElement('div');\n",
              "          docLink.innerHTML = docLinkHtml;\n",
              "          element.appendChild(docLink);\n",
              "        }\n",
              "      </script>\n",
              "    </div>\n",
              "  </div>\n",
              "  "
            ]
          },
          "metadata": {},
          "execution_count": 10
        }
      ]
    },
    {
      "cell_type": "markdown",
      "source": [
        "Função para calcular a entropia"
      ],
      "metadata": {
        "id": "TyCGcLdhP35B"
      }
    },
    {
      "cell_type": "code",
      "source": [
        "def entropia(y):\n",
        "  classes, counts = np.unique(y, return_counts=True)\n",
        "  p = counts / len(y)\n",
        "  return -np.sum(p * np.log2(p))"
      ],
      "metadata": {
        "id": "e7MQXGKuNQoc"
      },
      "execution_count": null,
      "outputs": []
    },
    {
      "cell_type": "markdown",
      "source": [
        "Função para calcular o ganho de informação (IG) para um atributo continuo dado uma partição p"
      ],
      "metadata": {
        "id": "rGeteqfaQ8jo"
      }
    },
    {
      "cell_type": "code",
      "source": [
        "def Information_Gain_continuous(X, y, p):\n",
        "  entropia_toral = entropia(y)\n",
        "  n = len(y) \n",
        "  y_esquerda = y[X <= p]\n",
        "  y_direita = y[X > p]\n",
        "  n_esquerda = len(y_esquerda)\n",
        "  n_direita = len(y_direita)\n",
        "  entropia_esquerda = entropia(y_esquerda)\n",
        "  entropia_direita = entropia(y_direita)\n",
        "  ig = entropia_toral - (n_esquerda / n) * entropia_esquerda - (n_direita / n) * entropia_direita\n",
        "  return ig"
      ],
      "metadata": {
        "id": "64Lt4UvfQhF1"
      },
      "execution_count": null,
      "outputs": []
    },
    {
      "cell_type": "markdown",
      "source": [
        "Atributo Continuo escolhido: Temperatura"
      ],
      "metadata": {
        "id": "I9Oup0tGQ-T_"
      }
    },
    {
      "cell_type": "code",
      "source": [
        "atributo = 'Temperatura'\n",
        "X = dataset[atributo].values"
      ],
      "metadata": {
        "id": "hwvw5nQ8Q-pv"
      },
      "execution_count": null,
      "outputs": []
    },
    {
      "cell_type": "markdown",
      "source": [
        "Classes de Alvo"
      ],
      "metadata": {
        "id": "n0MDt4eeQ-0W"
      }
    },
    {
      "cell_type": "code",
      "source": [
        "y = dataset['Joga'].values"
      ],
      "metadata": {
        "id": "WzA0QqgzQ_FY"
      },
      "execution_count": null,
      "outputs": []
    },
    {
      "cell_type": "markdown",
      "source": [
        "Calculo do ganho de informação (IG) para cada valor da partição  e escolher do melhor valor"
      ],
      "metadata": {
        "id": "jKDQAfOxQ_Rv"
      }
    },
    {
      "cell_type": "code",
      "source": [
        "# definindo o range de valores para a partição\n",
        "range_p = np.linspace(np.min(X), np.max(X), 100)\n",
        "\n",
        "ig_max = -np.inf\n",
        "p_max = None\n",
        "igs = []\n",
        "for p in range_p:\n",
        "  ig = Information_Gain_continuous(X, y, p)\n",
        "  igs.append(ig)\n",
        "  if ig > ig_max:\n",
        "    ig_max = ig\n",
        "    p_max = p"
      ],
      "metadata": {
        "id": "B-vmy0UBQ_bM"
      },
      "execution_count": null,
      "outputs": []
    },
    {
      "cell_type": "markdown",
      "source": [
        "Plot do grafico do ganho de informação por valor da partição"
      ],
      "metadata": {
        "id": "EXU-ZyPyQ_jn"
      }
    },
    {
      "cell_type": "code",
      "source": [
        "plt.plot(range_p, igs)\n",
        "plt.axvline(x=p_max, linestyle='--', color='red', label=f'Melhor partição: {p_max:.2f}')\n",
        "plt.title('Ganho de Informação para atributo continuo')\n",
        "plt.xlabel(atributo)\n",
        "plt.ylabel('Ganho de Informação')\n",
        "plt.legend()\n",
        "plt.show()"
      ],
      "metadata": {
        "colab": {
          "base_uri": "https://localhost:8080/",
          "height": 472
        },
        "id": "YyTpNd4GQ_rH",
        "outputId": "73c4b087-b7ce-46ac-91e2-08fb42673342"
      },
      "execution_count": null,
      "outputs": [
        {
          "output_type": "display_data",
          "data": {
            "text/plain": [
              "<Figure size 640x480 with 1 Axes>"
            ],
            "image/png": "[encoded data removed]"
          },
          "metadata": {}
        }
      ]
    }
  ]
}