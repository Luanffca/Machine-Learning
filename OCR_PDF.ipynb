{
  "nbformat": 4,
  "nbformat_minor": 0,
  "metadata": {
    "colab": {
      "provenance": []
    },
    "kernelspec": {
      "name": "python3",
      "display_name": "Python 3"
    },
    "language_info": {
      "name": "python"
    }
  },
  "cells": [
    {
      "cell_type": "code",
      "source": [
        "!pip install PyPDF2 "
      ],
      "metadata": {
        "id": "ob-Zdd-IWx_k"
      },
      "execution_count": null,
      "outputs": []
    },
    {
      "cell_type": "code",
      "source": [
        "!pip install pytesseract"
      ],
      "metadata": {
        "id": "_WqXobbtUvfI"
      },
      "execution_count": null,
      "outputs": []
    },
    {
      "cell_type": "code",
      "source": [
        " !pip install Image "
      ],
      "metadata": {
        "id": "oXfC-JgRXcDp"
      },
      "execution_count": null,
      "outputs": []
    },
    {
      "cell_type": "code",
      "source": [
        "!pip install openpyxl"
      ],
      "metadata": {
        "id": "qKrwMbhOXsQL"
      },
      "execution_count": null,
      "outputs": []
    },
    {
      "cell_type": "code",
      "source": [
        "!pip install pdf2image"
      ],
      "metadata": {
        "id": "1dd7HF6SgMEm"
      },
      "execution_count": null,
      "outputs": []
    },
    {
      "cell_type": "code",
      "source": [
        "!apt install poppler-utils"
      ],
      "metadata": {
        "id": "5uFuxZVXmH-Q"
      },
      "execution_count": null,
      "outputs": []
    },
    {
      "cell_type": "code",
      "source": [
        "!apt install tesseract-ocr"
      ],
      "metadata": {
        "id": "Vg4a-S2PnEN_"
      },
      "execution_count": null,
      "outputs": []
    },
    {
      "cell_type": "code",
      "execution_count": null,
      "metadata": {
        "id": "6ZSMzrKZUdwK"
      },
      "outputs": [],
      "source": [
        "import PyPDF2\n",
        "import pytesseract\n",
        "from PIL import Image\n",
        "import pandas as pd\n",
        "import openpyxl\n",
        "import io\n",
        "from pdf2image import convert_from_path\n",
        "import re"
      ]
    },
    {
      "cell_type": "markdown",
      "source": [
        "Configurando o Pytesseract"
      ],
      "metadata": {
        "id": "O7hsYP6DZGiQ"
      }
    },
    {
      "cell_type": "code",
      "source": [
        "from google.colab import drive"
      ],
      "metadata": {
        "id": "y0kb4m8VZ6gZ"
      },
      "execution_count": null,
      "outputs": []
    },
    {
      "cell_type": "code",
      "source": [
        "drive.mount('/content/gdrive')"
      ],
      "metadata": {
        "colab": {
          "base_uri": "https://localhost:8080/"
        },
        "id": "aIjtKZvyaB7h",
        "outputId": "fa19bd9f-7de1-498b-ce94-a9082356a046"
      },
      "execution_count": null,
      "outputs": [
        {
          "output_type": "stream",
          "name": "stdout",
          "text": [
            "Drive already mounted at /content/gdrive; to attempt to forcibly remount, call drive.mount(\"/content/gdrive\", force_remount=True).\n"
          ]
        }
      ]
    },
    {
      "cell_type": "code",
      "source": [
        "pytesseract.pytesseract.tesseract_cmd = '/usr/bin/tesseract'"
      ],
      "metadata": {
        "id": "CFxjNnw_Xzz8"
      },
      "execution_count": null,
      "outputs": []
    },
    {
      "cell_type": "markdown",
      "source": [
        "Derfinindo Caminho do Arquivo Excel"
      ],
      "metadata": {
        "id": "EbhSYC0b8GLQ"
      }
    },
    {
      "cell_type": "code",
      "source": [
        "excel_path = '/content/gdrive/My Drive/Colab Notebooks/Tabela_Perfil_Docente.xlsx'"
      ],
      "metadata": {
        "id": "tSeMyOpg8NxM"
      },
      "execution_count": null,
      "outputs": []
    },
    {
      "cell_type": "code",
      "source": [
        "output_file = '/content/gdrive/My Drive/Colab Notebooks/tabela_perfil_docente.txt'"
      ],
      "metadata": {
        "id": "cixt5blmNZnH"
      },
      "execution_count": null,
      "outputs": []
    },
    {
      "cell_type": "markdown",
      "source": [
        "Leitura do Arquivo em PDF"
      ],
      "metadata": {
        "id": "dkZgkay_ahOr"
      }
    },
    {
      "cell_type": "code",
      "source": [
        "pdf_path = '/content/gdrive/My Drive/Colab Notebooks/Tabela_Perfil_Docente.pdf'"
      ],
      "metadata": {
        "id": "vIfGl2ZOdREh"
      },
      "execution_count": null,
      "outputs": []
    },
    {
      "cell_type": "code",
      "source": [
        "text_list = []\n",
        "page_list = []"
      ],
      "metadata": {
        "id": "5K1mARMhjj1T"
      },
      "execution_count": null,
      "outputs": []
    },
    {
      "cell_type": "code",
      "source": [
        "with open(pdf_path, mode='rb') as file:\n",
        "  pdf_reader = PyPDF2.PdfReader(file)\n",
        "  num_pages = len(pdf_reader.pages)\n",
        "  text_list = []\n",
        "\n",
        "  #Loop pelas paginas do PDF\n",
        "  for i in range(num_pages):\n",
        "    pages = convert_from_path(pdf_path, dpi=300, first_page=i+1, last_page=i+1)\n",
        "    image = pages[0]\n",
        "    # page = convert_from_path()\n",
        "    # text = page.extract_text\n",
        "\n",
        "    #Execusao do OCR na pagina do PDF\n",
        "    text = pytesseract.image_to_string(image)\n",
        "    text_list.append(text)\n",
        "    page_list.append(i + 1)"
      ],
      "metadata": {
        "id": "lill4gbecTUo"
      },
      "execution_count": null,
      "outputs": []
    },
    {
      "cell_type": "code",
      "source": [
        "with open(output_file, 'w') as file:\n",
        "    for page_text in text_list:\n",
        "        file.write(page_text)"
      ],
      "metadata": {
        "id": "--9LH-5wNdZD"
      },
      "execution_count": null,
      "outputs": []
    },
    {
      "cell_type": "markdown",
      "source": [
        "Limpar os dados usando a função clean()"
      ],
      "metadata": {
        "id": "couJhvJ4-MKC"
      }
    },
    {
      "cell_type": "code",
      "source": [
        "# clean_text_list = [pd.Series(text).str.replace(r'[^\\x00-\\x7F]+', '', regex=False).str.replace('\\n', ' ') for text in text_list]"
      ],
      "metadata": {
        "id": "8m2QdLU4-Pbf"
      },
      "execution_count": null,
      "outputs": []
    },
    {
      "cell_type": "markdown",
      "source": [
        "Substituir caracteres ilegais por um valor em branco"
      ],
      "metadata": {
        "id": "i00BbYSz_0Mm"
      }
    },
    {
      "cell_type": "code",
      "source": [
        "# Define the ILLEGAL_CHARACTERS_RE variable\n",
        "ILLEGAL_CHARACTERS_RE = re.compile(r'[\\000-\\010]|[\\013-\\014]|[\\016-\\037]')"
      ],
      "metadata": {
        "id": "JEeurmhUCrQn"
      },
      "execution_count": null,
      "outputs": []
    },
    {
      "cell_type": "code",
      "source": [
        "clean_text_list = [pd.Series(text).str.replace(ILLEGAL_CHARACTERS_RE, '') for text in clean_text_list]"
      ],
      "metadata": {
        "id": "TP3qLLZI_3Dx"
      },
      "execution_count": null,
      "outputs": []
    },
    {
      "cell_type": "code",
      "source": [
        "text_list = clean_text_list"
      ],
      "metadata": {
        "id": "b7UKH86NF8aM"
      },
      "execution_count": null,
      "outputs": []
    },
    {
      "cell_type": "markdown",
      "source": [
        "Criando um DataFrame a partim da lista de textos"
      ],
      "metadata": {
        "id": "SHKIExm57tRY"
      }
    },
    {
      "cell_type": "code",
      "source": [
        "df = pd.DataFrame(text_list, columns=['texto'], dtype=str)"
      ],
      "metadata": {
        "id": "wcBgIUtEcumr"
      },
      "execution_count": null,
      "outputs": []
    },
    {
      "cell_type": "code",
      "source": [
        "df = pd.DataFrame({'texto': text_list, 'página': page_list})"
      ],
      "metadata": {
        "id": "H1B0R8z7HFid"
      },
      "execution_count": null,
      "outputs": []
    },
    {
      "cell_type": "code",
      "source": [
        "with pd.ExcelWriter(excel_path) as writer:\n",
        "  df.to_excel(writer, index=False, sheet_name=\"Dados\", encoding='utf-8')\n",
        "\n",
        "print('Dados salvos com sucesso em ', excel_path)"
      ],
      "metadata": {
        "colab": {
          "base_uri": "https://localhost:8080/"
        },
        "id": "Sgwd-hNz8-wr",
        "outputId": "683c6253-216e-4602-d445-8124e80d3008"
      },
      "execution_count": null,
      "outputs": [
        {
          "output_type": "stream",
          "name": "stdout",
          "text": [
            "Dados salvos com sucesso em  /content/gdrive/My Drive/Colab Notebooks/Tabela_Perfil_Docente.xlsx\n"
          ]
        }
      ]
    }
  ]
}